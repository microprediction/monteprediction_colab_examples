{
  "nbformat": 4,
  "nbformat_minor": 0,
  "metadata": {
    "colab": {
      "provenance": [],
      "authorship_tag": "ABX9TyNpwN0auSO3DBOKtJQDHciJ",
      "include_colab_link": true
    },
    "kernelspec": {
      "name": "python3",
      "display_name": "Python 3"
    },
    "language_info": {
      "name": "python"
    }
  },
  "cells": [
    {
      "cell_type": "markdown",
      "metadata": {
        "id": "view-in-github",
        "colab_type": "text"
      },
      "source": [
        "<a href=\"https://colab.research.google.com/github/microprediction/monteprediction_colab_examples/blob/main/mean_reversion_attacker_tutorial.ipynb\" target=\"_parent\"><img src=\"https://colab.research.google.com/assets/colab-badge.svg\" alt=\"Open In Colab\"/></a>"
      ]
    },
    {
      "cell_type": "code",
      "execution_count": 111,
      "metadata": {
        "colab": {
          "base_uri": "https://localhost:8080/",
          "height": 531
        },
        "collapsed": true,
        "id": "ljQZy0kzn5rb",
        "outputId": "d32b6627-f847-4b57-afed-7ea033ce2631"
      },
      "outputs": [
        {
          "output_type": "stream",
          "name": "stdout",
          "text": [
            "Collecting git+https://github.com/microprediction/endersgame.git\n",
            "  Cloning https://github.com/microprediction/endersgame.git to /tmp/pip-req-build-hnexdhay\n",
            "  Running command git clone --filter=blob:none --quiet https://github.com/microprediction/endersgame.git /tmp/pip-req-build-hnexdhay\n",
            "  Resolved https://github.com/microprediction/endersgame.git to commit c12944a5e640a86e6e310a96ccf94373fc398d8e\n",
            "  Preparing metadata (setup.py) ... \u001b[?25l\u001b[?25hdone\n",
            "Requirement already satisfied: numpy in /usr/local/lib/python3.10/dist-packages (from endersgame==0.0.11) (1.26.4)\n",
            "Requirement already satisfied: river in /usr/local/lib/python3.10/dist-packages (from endersgame==0.0.11) (0.21.2)\n",
            "Requirement already satisfied: pandas<3.0,>=2.1 in /usr/local/lib/python3.10/dist-packages (from river->endersgame==0.0.11) (2.1.4)\n",
            "Requirement already satisfied: scipy<2.0.0,>=1.12.1 in /usr/local/lib/python3.10/dist-packages (from river->endersgame==0.0.11) (1.13.1)\n",
            "Requirement already satisfied: python-dateutil>=2.8.2 in /usr/local/lib/python3.10/dist-packages (from pandas<3.0,>=2.1->river->endersgame==0.0.11) (2.8.2)\n",
            "Requirement already satisfied: pytz>=2020.1 in /usr/local/lib/python3.10/dist-packages (from pandas<3.0,>=2.1->river->endersgame==0.0.11) (2024.2)\n",
            "Requirement already satisfied: tzdata>=2022.1 in /usr/local/lib/python3.10/dist-packages (from pandas<3.0,>=2.1->river->endersgame==0.0.11) (2024.1)\n",
            "Requirement already satisfied: six>=1.5 in /usr/local/lib/python3.10/dist-packages (from python-dateutil>=2.8.2->pandas<3.0,>=2.1->river->endersgame==0.0.11) (1.16.0)\n",
            "Building wheels for collected packages: endersgame\n",
            "  Building wheel for endersgame (setup.py) ... \u001b[?25l\u001b[?25hdone\n",
            "  Created wheel for endersgame: filename=endersgame-0.0.11-py3-none-any.whl size=20580 sha256=85d376053668c5dc21b2aa900abc2c29f22c0ac93c7afd46d4cd3012fb476c20\n",
            "  Stored in directory: /tmp/pip-ephem-wheel-cache-mo5l0ico/wheels/39/24/f0/19aeef5765f9b9f629bab092893ebd3c04bde902d978c742bb\n",
            "Successfully built endersgame\n",
            "Installing collected packages: endersgame\n",
            "  Attempting uninstall: endersgame\n",
            "    Found existing installation: endersgame 0.0.9\n",
            "    Uninstalling endersgame-0.0.9:\n",
            "      Successfully uninstalled endersgame-0.0.9\n",
            "Successfully installed endersgame-0.0.11\n"
          ]
        },
        {
          "output_type": "display_data",
          "data": {
            "application/vnd.colab-display-data+json": {
              "pip_warning": {
                "packages": [
                  "endersgame"
                ]
              },
              "id": "2fece5c51e224ea68c90539114467bb9"
            }
          },
          "metadata": {}
        }
      ],
      "source": [
        "!pip install --upgrade git+https://github.com/microprediction/endersgame.git"
      ]
    },
    {
      "cell_type": "markdown",
      "source": [
        "# Mean Reversion Attacker Tutorial\n",
        "This notebook demonstrates how to create an \"attacker\" (see [README.md](https://github.com/microprediction/endersgame/tree/main/endersgame/attackers)), and test it.\n",
        "\n",
        "We use the steam generator (see this [notebook](https://github.com/microprediction/endersnotebooks/blob/main/enders_data_generator.ipynb)) to train it.  \n",
        "\n",
        "## What should an attacker do?\n",
        "\n",
        "It tries to predict `up` or `down` but not too often.\n",
        "\n",
        "Our attacker will consume a univariate sequence of numerical data points $x_1, x_2, \\dots x_t$ and try to exploit deviations from the [martingale property](https://en.wikipedia.org/wiki/Martingale_(probability_theory)), which is to say that we expect the series $x_t$ to satisfy:\n",
        "\n",
        "$$ E[x_{t+k}] \\approx x_t $$\n",
        "\n",
        "roughly. Of course, there's no such thing in this world as a perfect martingale and it is your job to indicate when\n",
        "\n",
        "$$ E[x_{t+k}] > x_t $$\n",
        "\n",
        "or conversely."
      ],
      "metadata": {
        "id": "LpCh-JZToCzK"
      }
    },
    {
      "cell_type": "markdown",
      "source": [
        "## Overview\n",
        "We will\n",
        "\n",
        "\n",
        "1.   Start with an attacker that already has some accounting logic\n",
        "2.   Modify the default `tick` and `predict` methods\n",
        "3.   Run the attacker on mock data\n",
        "4.   Run the attacker on real data\n",
        "5.   Set up an optimization to tune the attacker's parameters\n",
        "6.   See if it helps on the test set\n",
        "\n",
        "\n",
        "## Imports\n"
      ],
      "metadata": {
        "id": "8ITebDapqJod"
      }
    },
    {
      "cell_type": "code",
      "source": [
        "from endersgame.attackers.attackerwithsimplepnl import AttackerWithSimplePnL\n",
        "from endersgame.rivertransformers.macd import MACD\n",
        "from endersgame.datasources.streamgenerator import stream_generator\n",
        "from river import stats\n",
        "import numpy as np\n",
        "import math\n",
        "import types\n",
        "from pprint import pprint\n",
        "import json"
      ],
      "metadata": {
        "id": "7qxqYHfMqvQ4"
      },
      "execution_count": 25,
      "outputs": []
    },
    {
      "cell_type": "markdown",
      "source": [
        "## Step 1: Decide what state to maintain\n",
        "Let's first implement the `tick` method. This should quickly respond to an incoming data point. Here we choose to maintain the current value and also an exponentially weighted moving average of historical values."
      ],
      "metadata": {
        "id": "F7zKoqUAqx7X"
      }
    },
    {
      "cell_type": "code",
      "source": [
        "from endersgame.attackers.attackerwithsimplepnl import AttackerWithSimplePnL\n",
        "\n",
        "class MyAttacker(AttackerWithSimplePnL):\n",
        "\n",
        "     def __init__(self, a=0.01):\n",
        "        super().__init__()\n",
        "        self.state = {'running_avg':None,\n",
        "                      'current_value':None}\n",
        "        self.params = {'a':a}\n",
        "\n",
        "     def tick(self, x:float):\n",
        "         # Maintains an expon moving average of the data\n",
        "         self.state['current_value'] = x\n",
        "         if not np.isnan(x):\n",
        "            if self.state['running_avg'] is None:\n",
        "                self.state['running_avg'] = x\n",
        "            else:\n",
        "                self.state['running_avg'] = (1-self.params['a'])*self.state['running_avg'] + self.params['a']*x\n",
        ""
      ],
      "metadata": {
        "id": "QpvP8BbRpixH"
      },
      "execution_count": 2,
      "outputs": []
    },
    {
      "cell_type": "markdown",
      "source": [
        "### Testing tick\n",
        "Instantiate the attacker and let it tick on data from history."
      ],
      "metadata": {
        "id": "4INVybLMsraQ"
      }
    },
    {
      "cell_type": "code",
      "source": [
        "x_train_stream = stream_generator(stream_id=0,category='train')\n",
        "attacker = MyAttacker()\n",
        "for x in x_train_stream:\n",
        "    attacker.tick(x)\n",
        "\n",
        "last_x = x\n",
        "print(f\"After processing the entire stream, the current value is  {attacker.state['current_value']} and the moving average is {attacker.state['running_avg']}\")"
      ],
      "metadata": {
        "colab": {
          "base_uri": "https://localhost:8080/"
        },
        "id": "GWZ-Z_jsstdw",
        "outputId": "5f17f66c-b3a9-4782-f156-19828c80dab4"
      },
      "execution_count": 3,
      "outputs": [
        {
          "output_type": "stream",
          "name": "stdout",
          "text": [
            "After processing the entire stream, the current value is  9583.964285712302 and the moving average is 9583.164896526241\n"
          ]
        }
      ]
    },
    {
      "cell_type": "markdown",
      "source": [
        "## Making an `up` or `down` decision\n",
        "Next we implement `predict` using a mean reversion strategy."
      ],
      "metadata": {
        "id": "Q0Bjtgbet2Hn"
      }
    },
    {
      "cell_type": "code",
      "source": [
        "def predict(self, k:int=None)->float:\n",
        "    if self.state['current_value'] > self.state['running_avg'] + 2:\n",
        "        return -1\n",
        "    if self.state['current_value'] < self.state['running_avg'] - 2:\n",
        "        return 1\n",
        "    return 0\n",
        "\n",
        "attacker = MyAttacker()\n",
        "attacker.predict = types.MethodType(predict, attacker) # <-- Attach the predict method to our existing instance of attacker\n"
      ],
      "metadata": {
        "id": "_Xaf1t-6uBL8"
      },
      "execution_count": 13,
      "outputs": []
    },
    {
      "cell_type": "markdown",
      "source": [
        "Let's check that if the current value is very high we should predict it will fall:"
      ],
      "metadata": {
        "id": "hGyCR4yexY5O"
      }
    },
    {
      "cell_type": "code",
      "source": [
        "attacker.state['current_value'] = 10\n",
        "attacker.state['running_avg'] = 5\n",
        "print(attacker.predict())"
      ],
      "metadata": {
        "colab": {
          "base_uri": "https://localhost:8080/"
        },
        "id": "buRgiUMo2lXH",
        "outputId": "48481645-c848-4589-fd09-f159d80656e9"
      },
      "execution_count": 14,
      "outputs": [
        {
          "output_type": "stream",
          "name": "stdout",
          "text": [
            "-1\n"
          ]
        }
      ]
    },
    {
      "cell_type": "markdown",
      "source": [
        "## Run the attacker on mock data\n",
        "We'll attack the prediction method to the attacker then run it"
      ],
      "metadata": {
        "id": "lh6jpef0vAjp"
      }
    },
    {
      "cell_type": "code",
      "source": [
        "k=100                           # Prediction horizon\n",
        "attacker = MyAttacker()         # Always reset an attacker\n",
        "attacker.predict = types.MethodType(predict, attacker)\n",
        "\n",
        "xs = [1,3,4,2,4,5,1,5,2,5,10]*100\n",
        "for x in xs:\n",
        "   y = attacker.tick_and_predict(x=x, k=k)"
      ],
      "metadata": {
        "id": "S0yzoHAOv9W4"
      },
      "execution_count": 15,
      "outputs": []
    },
    {
      "cell_type": "markdown",
      "source": [
        "## Run the attacker on real data"
      ],
      "metadata": {
        "id": "dTsfKoLo3lIT"
      }
    },
    {
      "cell_type": "code",
      "source": [
        "k = 100       # Horizon\n",
        "x_test_stream = stream_generator(stream_id=1,category='train')\n",
        "attacker = MyAttacker()\n",
        "attacker.predict = types.MethodType(predict, attacker)     #  <-- If you get sick of doing this then put the method in the class at the outset\n",
        "for x in x_test_stream:\n",
        "    y = attacker.tick_and_predict(x=x,k=k)\n",
        "\n",
        "attacker.state"
      ],
      "metadata": {
        "colab": {
          "base_uri": "https://localhost:8080/"
        },
        "id": "fqfStlKN3m5s",
        "outputId": "2a205537-1bae-4578-a2a3-98b61651154d"
      },
      "execution_count": 16,
      "outputs": [
        {
          "output_type": "execute_result",
          "data": {
            "text/plain": [
              "{'running_avg': 6415.837463556068, 'current_value': 6415.239999998541}"
            ]
          },
          "metadata": {},
          "execution_count": 16
        }
      ]
    },
    {
      "cell_type": "markdown",
      "source": [
        "## Check the attacker's profit and loss\n"
      ],
      "metadata": {
        "id": "kFnfH7VNxmpF"
      }
    },
    {
      "cell_type": "code",
      "source": [
        "pprint(attacker.get_pnl_summary())"
      ],
      "metadata": {
        "colab": {
          "base_uri": "https://localhost:8080/"
        },
        "id": "EimzKx0lxo7y",
        "outputId": "8f4c9f2d-f9bd-4104-8cbc-80fbff96fdf3"
      },
      "execution_count": 17,
      "outputs": [
        {
          "output_type": "stream",
          "name": "stdout",
          "text": [
            "{'current_ndx': 46480,\n",
            " 'losses': 14,\n",
            " 'num_resolved_decisions': 41,\n",
            " 'profit_per_decision': 0.3257317073168166,\n",
            " 'standardized_profit_per_decision': 0.20906479195448266,\n",
            " 'total_profit': 13.35499999998948,\n",
            " 'win_loss_ratio': 1.9285714285714286,\n",
            " 'wins': 27}\n"
          ]
        }
      ]
    },
    {
      "cell_type": "markdown",
      "source": [
        "## Fit the attacker parameter\n",
        "Let's create a function that evaluates the attacker for a choice of parameter `a`"
      ],
      "metadata": {
        "id": "MKagUGkW6vbv"
      }
    },
    {
      "cell_type": "code",
      "source": [
        "def total_profit_objective(a, category='train', verbose=True):\n",
        "    NUM_STREAMS = 20\n",
        "    k = 100.                # Prediction horizon\n",
        "    total_profit = 0\n",
        "    for stream_id in range(NUM_STREAMS):\n",
        "        attacker = MyAttacker(a=a)\n",
        "        attacker.predict = types.MethodType(predict, attacker)\n",
        "        x_test_stream = stream_generator(stream_id=stream_id,category=category)\n",
        "        for x in x_test_stream:\n",
        "            y = attacker.tick_and_predict(x=x,k=k)\n",
        "        pnl = attacker.get_pnl_summary()\n",
        "        total_profit += pnl['total_profit']\n",
        "    if verbose:\n",
        "        print(f'Using a={a} the total profit on the {category} data is {total_profit}')\n",
        "    return -total_profit         # So smaller is better for the optimizer\n",
        "\n",
        "# Let's try it out\n",
        "profit = total_profit_objective(a=0.01)"
      ],
      "metadata": {
        "colab": {
          "base_uri": "https://localhost:8080/"
        },
        "id": "UnVLstwy65L4",
        "outputId": "785b686e-9700-47d7-9ded-046106ced675"
      },
      "execution_count": 34,
      "outputs": [
        {
          "output_type": "stream",
          "name": "stdout",
          "text": [
            "Using a=0.01 the total profit on the train data is 30.345387440740183\n"
          ]
        }
      ]
    },
    {
      "cell_type": "markdown",
      "source": [
        "Now we can pass this to an optimizer"
      ],
      "metadata": {
        "id": "5gu4daet75Fg"
      }
    },
    {
      "cell_type": "code",
      "source": [
        "import scipy.optimize as opt\n",
        "result = opt.minimize_scalar(total_profit_objective, bounds=(0.001, 0.2), method='bounded',options={'maxiter': 10})\n",
        "\n",
        "# Print the result\n",
        "print(f\"Optimal value of a: {result.x}\")\n",
        "print(f\"Minimum total profit: {-result.fun}\")  # Re-negate to get the actual profit"
      ],
      "metadata": {
        "colab": {
          "base_uri": "https://localhost:8080/"
        },
        "id": "cPMdvBBD76xG",
        "outputId": "8cb36a0d-82d1-4ff3-80b9-56b6436ae5dc"
      },
      "execution_count": 23,
      "outputs": [
        {
          "output_type": "stream",
          "name": "stdout",
          "text": [
            "Using a=0.07701123623877092 the total profit is 74.27096864444063\n",
            "Using a=0.12398876376122907 the total profit is 77.1383459729119\n",
            "Using a=0.15302247247754186 the total profit is 65.50128714938424\n",
            "Using a=0.10552275836219666 the total profit is 76.39992117282337\n",
            "Using a=0.1350786536713965 the total profit is 71.84952244350112\n",
            "Using a=0.11693537733523775 the total profit is 76.73845058458915\n",
            "Using a=0.1282247247754185 the total profit is 78.06011067879662\n",
            "Using a=0.13084269265720705 the total profit is 75.09452244350292\n",
            "Using a=0.1266067316430176 the total profit is 77.78540479644346\n",
            "Using a=0.12922469952480614 the total profit is 78.06011067879662\n",
            "Optimal value of a: 0.12922469952480614\n",
            "Minimum total profit: 78.06011067879662\n"
          ]
        }
      ]
    },
    {
      "cell_type": "markdown",
      "source": [
        "## Save your favorite params"
      ],
      "metadata": {
        "id": "iZnMBSgq-LnY"
      }
    },
    {
      "cell_type": "code",
      "source": [
        "params = {'a':0.13}\n",
        "with open('params.json', 'w') as f:\n",
        "    json.dump(params, f, indent=4)\n"
      ],
      "metadata": {
        "id": "FO7aPdzV-Oy-"
      },
      "execution_count": 26,
      "outputs": []
    },
    {
      "cell_type": "markdown",
      "source": [
        "## Create a loader"
      ],
      "metadata": {
        "id": "qZj0K-9s_MGz"
      }
    },
    {
      "cell_type": "code",
      "source": [
        "def load():\n",
        "    with open('optimization_results.json', 'r') as f:\n",
        "        params = json.load(f)\n",
        "    attacker = MyAttacker(params)\n",
        "    attacker.predict = types.MethodType(predict, attacker)\n",
        "    return attacker"
      ],
      "metadata": {
        "id": "A6wtKV0z_PvH"
      },
      "execution_count": null,
      "outputs": []
    },
    {
      "cell_type": "markdown",
      "source": [
        "## Oh wait ... does it work on the test set too?"
      ],
      "metadata": {
        "id": "OCwBbf2XANK9"
      }
    },
    {
      "cell_type": "code",
      "source": [
        "test_profit = -total_profit_objective(a=0.13, category='test')\n",
        "if test_profit<0:\n",
        "   print('Back to the drawing board!')"
      ],
      "metadata": {
        "colab": {
          "base_uri": "https://localhost:8080/"
        },
        "id": "rKt_3PL_Abi6",
        "outputId": "35289c9b-7639-422a-dd7b-eef2b5bcbcac"
      },
      "execution_count": 33,
      "outputs": [
        {
          "output_type": "stream",
          "name": "stdout",
          "text": [
            "Using a=0.13 the total profit is -1.722777777775736\n",
            "Back to the drawing board!\n"
          ]
        }
      ]
    }
  ]
}