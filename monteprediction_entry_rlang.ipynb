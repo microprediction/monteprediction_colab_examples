{
  "cells": [
    {
      "cell_type": "markdown",
      "metadata": {
        "colab_type": "text",
        "id": "view-in-github"
      },
      "source": [
        "<a href=\"https://colab.research.google.com/github/microprediction/monteprediction_colab_examples/blob/main/monteprediction_entry_rlang.ipynb\" target=\"_parent\"><img src=\"https://colab.research.google.com/assets/colab-badge.svg\" alt=\"Open In Colab\"/></a>"
      ]
    },
    {
      "cell_type": "code",
      "execution_count": null,
      "metadata": {
        "id": "HoxE7jmOSND4",
        "vscode": {
          "languageId": "r"
        }
      },
      "outputs": [],
      "source": []
    },
    {
      "cell_type": "code",
      "execution_count": 2,
      "metadata": {
        "colab": {
          "base_uri": "https://localhost:8080/"
        },
        "id": "w7_WUy_KWrPy",
        "outputId": "aa84b0c6-0f71-40a3-a8b3-346ab14da08c",
        "vscode": {
          "languageId": "r"
        }
      },
      "outputs": [
        {
          "name": "stderr",
          "output_type": "stream",
          "text": [
            "Installing packages into ‘/usr/local/lib/R/site-library’\n",
            "(as ‘lib’ is unspecified)\n",
            "\n",
            "also installing the dependencies ‘zoo’, ‘TTR’, ‘rngWELL’\n",
            "\n",
            "\n"
          ]
        }
      ],
      "source": [
        "install.packages(c(\"quantmod\", \"dplyr\", \"xts\", \"randtoolbox\", \"httr\", \"data.table\"))\n"
      ]
    },
    {
      "cell_type": "code",
      "execution_count": 4,
      "metadata": {
        "colab": {
          "base_uri": "https://localhost:8080/",
          "height": 272
        },
        "id": "QZ0y4gEiWrn_",
        "outputId": "cb1ef889-ccff-4b18-88b1-22f1acac5e4a",
        "vscode": {
          "languageId": "r"
        }
      },
      "outputs": [
        {
          "data": {
            "text/html": [
              "<style>\n",
              ".list-inline {list-style: none; margin:0; padding: 0}\n",
              ".list-inline>li {display: inline-block}\n",
              ".list-inline>li:not(:last-child)::after {content: \"\\00b7\"; padding: 0 .5ex}\n",
              "</style>\n",
              "<ol class=list-inline><li>'XLB'</li><li>'XLC'</li><li>'XLE'</li><li>'XLF'</li><li>'XLI'</li><li>'XLK'</li><li>'XLP'</li><li>'XLRE'</li><li>'XLU'</li><li>'XLV'</li><li>'XLY'</li></ol>\n"
            ],
            "text/latex": [
              "\\begin{enumerate*}\n",
              "\\item 'XLB'\n",
              "\\item 'XLC'\n",
              "\\item 'XLE'\n",
              "\\item 'XLF'\n",
              "\\item 'XLI'\n",
              "\\item 'XLK'\n",
              "\\item 'XLP'\n",
              "\\item 'XLRE'\n",
              "\\item 'XLU'\n",
              "\\item 'XLV'\n",
              "\\item 'XLY'\n",
              "\\end{enumerate*}\n"
            ],
            "text/markdown": [
              "1. 'XLB'\n",
              "2. 'XLC'\n",
              "3. 'XLE'\n",
              "4. 'XLF'\n",
              "5. 'XLI'\n",
              "6. 'XLK'\n",
              "7. 'XLP'\n",
              "8. 'XLRE'\n",
              "9. 'XLU'\n",
              "10. 'XLV'\n",
              "11. 'XLY'\n",
              "\n",
              "\n"
            ],
            "text/plain": [
              " [1] \"XLB\"  \"XLC\"  \"XLE\"  \"XLF\"  \"XLI\"  \"XLK\"  \"XLP\"  \"XLRE\" \"XLU\"  \"XLV\" \n",
              "[11] \"XLY\" "
            ]
          },
          "metadata": {},
          "output_type": "display_data"
        },
        {
          "data": {
            "text/html": [
              "<table class=\"dataframe\">\n",
              "<caption>A data.frame: 5 × 11</caption>\n",
              "<thead>\n",
              "\t<tr><th></th><th scope=col>XLB</th><th scope=col>XLC</th><th scope=col>XLE</th><th scope=col>XLF</th><th scope=col>XLI</th><th scope=col>XLK</th><th scope=col>XLP</th><th scope=col>XLRE</th><th scope=col>XLU</th><th scope=col>XLV</th><th scope=col>XLY</th></tr>\n",
              "\t<tr><th></th><th scope=col>&lt;dbl&gt;</th><th scope=col>&lt;dbl&gt;</th><th scope=col>&lt;dbl&gt;</th><th scope=col>&lt;dbl&gt;</th><th scope=col>&lt;dbl&gt;</th><th scope=col>&lt;dbl&gt;</th><th scope=col>&lt;dbl&gt;</th><th scope=col>&lt;dbl&gt;</th><th scope=col>&lt;dbl&gt;</th><th scope=col>&lt;dbl&gt;</th><th scope=col>&lt;dbl&gt;</th></tr>\n",
              "</thead>\n",
              "<tbody>\n",
              "\t<tr><th scope=row>1</th><td>0.014548154</td><td>0.02207498</td><td>0.025818328</td><td>0.02322322</td><td>0.02141552</td><td>0.03150791</td><td>0.01886850</td><td>0.02902143</td><td>0.03050580</td><td>0.02528747</td><td>0.03520686</td></tr>\n",
              "\t<tr><th scope=row>2</th><td>0.021822231</td><td>0.02125601</td><td>0.042698611</td><td>0.02496451</td><td>0.02789168</td><td>0.02899544</td><td>0.02492875</td><td>0.03017906</td><td>0.03196641</td><td>0.02956896</td><td>0.03151914</td></tr>\n",
              "\t<tr><th scope=row>3</th><td>0.007274077</td><td>0.02289395</td><td>0.008938045</td><td>0.02148193</td><td>0.01493935</td><td>0.03402037</td><td>0.01280824</td><td>0.02786380</td><td>0.02904518</td><td>0.02100597</td><td>0.03889457</td></tr>\n",
              "\t<tr><th scope=row>4</th><td>0.010911116</td><td>0.01655624</td><td>0.028393834</td><td>0.01405375</td><td>0.02008125</td><td>0.03381675</td><td>0.01105211</td><td>0.02637984</td><td>0.02038008</td><td>0.02316900</td><td>0.03035513</td></tr>\n",
              "\t<tr><th scope=row>5</th><td>0.025459270</td><td>0.03863122</td><td>0.018091811</td><td>0.03477099</td><td>0.02995956</td><td>0.04524975</td><td>0.02683262</td><td>0.03487357</td><td>0.03395953</td><td>0.03117999</td><td>0.05544402</td></tr>\n",
              "</tbody>\n",
              "</table>\n"
            ],
            "text/latex": [
              "A data.frame: 5 × 11\n",
              "\\begin{tabular}{r|lllllllllll}\n",
              "  & XLB & XLC & XLE & XLF & XLI & XLK & XLP & XLRE & XLU & XLV & XLY\\\\\n",
              "  & <dbl> & <dbl> & <dbl> & <dbl> & <dbl> & <dbl> & <dbl> & <dbl> & <dbl> & <dbl> & <dbl>\\\\\n",
              "\\hline\n",
              "\t1 & 0.014548154 & 0.02207498 & 0.025818328 & 0.02322322 & 0.02141552 & 0.03150791 & 0.01886850 & 0.02902143 & 0.03050580 & 0.02528747 & 0.03520686\\\\\n",
              "\t2 & 0.021822231 & 0.02125601 & 0.042698611 & 0.02496451 & 0.02789168 & 0.02899544 & 0.02492875 & 0.03017906 & 0.03196641 & 0.02956896 & 0.03151914\\\\\n",
              "\t3 & 0.007274077 & 0.02289395 & 0.008938045 & 0.02148193 & 0.01493935 & 0.03402037 & 0.01280824 & 0.02786380 & 0.02904518 & 0.02100597 & 0.03889457\\\\\n",
              "\t4 & 0.010911116 & 0.01655624 & 0.028393834 & 0.01405375 & 0.02008125 & 0.03381675 & 0.01105211 & 0.02637984 & 0.02038008 & 0.02316900 & 0.03035513\\\\\n",
              "\t5 & 0.025459270 & 0.03863122 & 0.018091811 & 0.03477099 & 0.02995956 & 0.04524975 & 0.02683262 & 0.03487357 & 0.03395953 & 0.03117999 & 0.05544402\\\\\n",
              "\\end{tabular}\n"
            ],
            "text/markdown": [
              "\n",
              "A data.frame: 5 × 11\n",
              "\n",
              "| <!--/--> | XLB &lt;dbl&gt; | XLC &lt;dbl&gt; | XLE &lt;dbl&gt; | XLF &lt;dbl&gt; | XLI &lt;dbl&gt; | XLK &lt;dbl&gt; | XLP &lt;dbl&gt; | XLRE &lt;dbl&gt; | XLU &lt;dbl&gt; | XLV &lt;dbl&gt; | XLY &lt;dbl&gt; |\n",
              "|---|---|---|---|---|---|---|---|---|---|---|---|\n",
              "| 1 | 0.014548154 | 0.02207498 | 0.025818328 | 0.02322322 | 0.02141552 | 0.03150791 | 0.01886850 | 0.02902143 | 0.03050580 | 0.02528747 | 0.03520686 |\n",
              "| 2 | 0.021822231 | 0.02125601 | 0.042698611 | 0.02496451 | 0.02789168 | 0.02899544 | 0.02492875 | 0.03017906 | 0.03196641 | 0.02956896 | 0.03151914 |\n",
              "| 3 | 0.007274077 | 0.02289395 | 0.008938045 | 0.02148193 | 0.01493935 | 0.03402037 | 0.01280824 | 0.02786380 | 0.02904518 | 0.02100597 | 0.03889457 |\n",
              "| 4 | 0.010911116 | 0.01655624 | 0.028393834 | 0.01405375 | 0.02008125 | 0.03381675 | 0.01105211 | 0.02637984 | 0.02038008 | 0.02316900 | 0.03035513 |\n",
              "| 5 | 0.025459270 | 0.03863122 | 0.018091811 | 0.03477099 | 0.02995956 | 0.04524975 | 0.02683262 | 0.03487357 | 0.03395953 | 0.03117999 | 0.05544402 |\n",
              "\n"
            ],
            "text/plain": [
              "  XLB         XLC        XLE         XLF        XLI        XLK       \n",
              "1 0.014548154 0.02207498 0.025818328 0.02322322 0.02141552 0.03150791\n",
              "2 0.021822231 0.02125601 0.042698611 0.02496451 0.02789168 0.02899544\n",
              "3 0.007274077 0.02289395 0.008938045 0.02148193 0.01493935 0.03402037\n",
              "4 0.010911116 0.01655624 0.028393834 0.01405375 0.02008125 0.03381675\n",
              "5 0.025459270 0.03863122 0.018091811 0.03477099 0.02995956 0.04524975\n",
              "  XLP        XLRE       XLU        XLV        XLY       \n",
              "1 0.01886850 0.02902143 0.03050580 0.02528747 0.03520686\n",
              "2 0.02492875 0.03017906 0.03196641 0.02956896 0.03151914\n",
              "3 0.01280824 0.02786380 0.02904518 0.02100597 0.03889457\n",
              "4 0.01105211 0.02637984 0.02038008 0.02316900 0.03035513\n",
              "5 0.02683262 0.03487357 0.03395953 0.03117999 0.05544402"
            ]
          },
          "metadata": {},
          "output_type": "display_data"
        }
      ],
      "source": [
        "library(quantmod)\n",
        "library(dplyr)\n",
        "library(xts)\n",
        "library(randtoolbox)\n",
        "library(httr)\n",
        "library(data.table)\n",
        "\n",
        "# Define SPDR ETFs - Example ETFs\n",
        "MONTE_URL <- 'https://micromonte.pythonanywhere.com/upload'\n",
        "SPDR_ETFS <- c('XLB', 'XLC', 'XLE', 'XLF', 'XLI', 'XLK', 'XLP', 'XLRE', 'XLU', 'XLV', 'XLY')\n",
        "KERNEL_RATE <- 300.0\n",
        "\n",
        "# Utility functions\n",
        "get_last_wednesday <- function() {\n",
        "  today <- Sys.Date()\n",
        "  weekday_today <- match(format(today, \"%A\"), c(\"Monday\", \"Tuesday\", \"Wednesday\", \"Thursday\", \"Friday\", \"Saturday\", \"Sunday\"))\n",
        "  offset <- (weekday_today - 3) %% 7\n",
        "  last_wednesday <- today - as.difftime(offset, units = \"days\")\n",
        "  return(last_wednesday)\n",
        "}\n",
        "\n",
        "\n",
        "# Example of fetching financial data and preparing it\n",
        "last_wednesday <- get_last_wednesday()\n",
        "num_weeks <- sample(52:(52+4*52), 1)\n",
        "start_date <- as.Date(last_wednesday) - (7 * num_weeks)\n",
        "\n",
        "getSymbols(SPDR_ETFS, from = start_date, to = last_wednesday+1, auto.assign = TRUE, periodicity = \"weekly\")\n",
        "weekly_prices <- do.call(merge, lapply(SPDR_ETFS, function(sym) Ad(get(sym))))\n",
        "weekly_returns <- na.omit(ROC(weekly_prices, type = \"discrete\"))\n",
        "cov_matrix <- cov(as.matrix(weekly_returns))\n",
        "\n",
        "\n",
        "# Factory defaults don't change these\n",
        "num_samples_per_chunk <- 1048576 / 8\n",
        "num_chunks <- 8\n",
        "num_samples <- num_chunks * num_samples_per_chunk\n",
        "\n",
        "# Quasi monte carlo assuming multivariate normal\n",
        "# Swap this out for your genius method\n",
        "samples <- sobol(n = num_samples, dim = ncol(weekly_returns))\n",
        "samples <- samples %*% chol(cov_matrix)\n",
        "colnames(samples) <- SPDR_ETFS\n",
        "df <- as.data.frame(samples)\n",
        "\n",
        "head(df,5)\n",
        "\n"
      ]
    },
    {
      "cell_type": "markdown",
      "metadata": {
        "id": "i6hk2mmEZciY"
      },
      "source": [
        "We need this utility function to submit the samples"
      ]
    },
    {
      "cell_type": "code",
      "execution_count": 5,
      "metadata": {
        "id": "H3dbVNxOZdRb",
        "vscode": {
          "languageId": "r"
        }
      },
      "outputs": [],
      "source": [
        "\n",
        "\n",
        "\n",
        "# Updated send_in_chunks function to correctly handle the chunks\n",
        "send_in_chunks <- function(df, email, num_chunks, name = NULL, max_retries = 3) {\n",
        "  if (is.null(name)) {\n",
        "    name <- substr(email, 1, 20)\n",
        "  }\n",
        "\n",
        "  # Ensure the dataframe is split into the specified number of chunks\n",
        "  chunks <- split(df, rep(1:num_chunks, each = num_samples_per_chunk, length.out = nrow(df)))\n",
        "\n",
        "  for (chunk_no in seq_along(chunks)) {\n",
        "    chunk_df <- chunks[[chunk_no]]\n",
        "    for (attempt in 1:max_retries) {\n",
        "      csv_content <- tempfile()\n",
        "      write.csv(chunk_df, csv_content, row.names = FALSE, quote = TRUE)\n",
        "\n",
        "      metadata <- list(email = email, name = name, chunk = chunk_no - 1, num_chunks = num_chunks, kernel_rate = KERNEL_RATE)\n",
        "      response <- POST(MONTE_URL, body = list(file = upload_file(csv_content)), query = metadata, encode = \"multipart\")\n",
        "\n",
        "      if (response$status_code == 200) {\n",
        "        cat(sprintf(\"Chunk %d of %d sent successfully.\\n\", chunk_no, num_chunks))\n",
        "        break\n",
        "      } else {\n",
        "        cat(sprintf(\"Failed to send chunk %d, attempt %d. Response: %s\\n\", chunk_no, attempt, content(response, \"text\", encoding = \"UTF-8\")))\n",
        "      }\n",
        "      Sys.sleep(1)  # Delay between retries\n",
        "    }\n",
        "\n",
        "    if (attempt == max_retries) {\n",
        "      cat(sprintf(\"Failed to send chunk %d after %d attempts.\\n\", chunk_no, max_retries))\n",
        "    }\n",
        "  }\n",
        "}\n"
      ]
    },
    {
      "cell_type": "code",
      "execution_count": 6,
      "metadata": {
        "colab": {
          "base_uri": "https://localhost:8080/"
        },
        "id": "uni8R9bqY6H8",
        "outputId": "c33229a9-ae19-416d-c643-62073da2bdc1",
        "vscode": {
          "languageId": "r"
        }
      },
      "outputs": [
        {
          "name": "stdout",
          "output_type": "stream",
          "text": [
            "Chunk 1 of 8 sent successfully.\n",
            "Chunk 2 of 8 sent successfully.\n",
            "Chunk 3 of 8 sent successfully.\n",
            "Chunk 4 of 8 sent successfully.\n",
            "Chunk 5 of 8 sent successfully.\n",
            "Chunk 6 of 8 sent successfully.\n",
            "Chunk 7 of 8 sent successfully.\n",
            "Chunk 8 of 8 sent successfully.\n"
          ]
        }
      ],
      "source": [
        "# Are you happy?\n",
        "YOUR_EMAIL <- \"rlang_example@microprediction.com\"       # Replace with your actual email\n",
        "YOUR_NAME <- \"Your Name\"                                # (Optional) Replace with a preferred leaderboard handle\n",
        "send_in_chunks(df, YOUR_EMAIL, num_chunks, YOUR_NAME)"
      ]
    },
    {
      "cell_type": "markdown",
      "metadata": {
        "id": "OUp9uD9-Y-DR"
      },
      "source": [
        "If this works I suggest converting this to a script and scheduling it to run every weekend."
      ]
    }
  ],
  "metadata": {
    "colab": {
      "authorship_tag": "ABX9TyPPT3prP70qC95VHQJGKp03",
      "include_colab_link": true,
      "provenance": []
    },
    "kernelspec": {
      "display_name": "R",
      "name": "ir"
    },
    "language_info": {
      "name": "R"
    }
  },
  "nbformat": 4,
  "nbformat_minor": 0
}
